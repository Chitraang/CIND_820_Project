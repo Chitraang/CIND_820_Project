{
  "nbformat": 4,
  "nbformat_minor": 0,
  "metadata": {
    "colab": {
      "private_outputs": true,
      "provenance": []
    },
    "kernelspec": {
      "name": "python3",
      "display_name": "Python 3"
    },
    "language_info": {
      "name": "python"
    }
  },
  "cells": [
    {
      "cell_type": "code",
      "execution_count": null,
      "metadata": {
        "id": "VtdU-H_Gzp8u"
      },
      "outputs": [],
      "source": [
        "# importing libraries\n",
        "\n",
        "import pandas as pd\n",
        "import numpy as np\n",
        "import matplotlib.pyplot as plt\n",
        "import seaborn as sns\n",
        "import missingno as msno\n",
        "\n",
        "import warnings\n",
        "warnings.filterwarnings('ignore')\n",
        "\n",
        "from sklearn.model_selection import train_test_split, GridSearchCV\n",
        "from sklearn.preprocessing import StandardScaler\n",
        "from sklearn.metrics import accuracy_score, confusion_matrix, classification_report\n",
        "from sklearn.linear_model import LogisticRegression\n",
        "from sklearn.neighbors import KNeighborsClassifier\n",
        "from sklearn.svm import SVC\n",
        "from sklearn.tree import DecisionTreeClassifier\n",
        "from sklearn.ensemble import RandomForestClassifier\n",
        "from sklearn.ensemble import RandomForestClassifier\n",
        "from sklearn.ensemble import AdaBoostClassifier\n",
        "from sklearn.ensemble import GradientBoostingClassifier\n",
        "from xgboost import XGBClassifier\n",
        "from sklearn.ensemble import ExtraTreesClassifier\n",
        "from lightgbm import LGBMClassifier\n",
        "from sklearn.ensemble import VotingClassifier\n",
        "\n",
        "import folium\n",
        "from folium.plugins import HeatMap\n",
        "import plotly.express as px\n",
        "\n",
        "plt.style.use('fivethirtyeight')\n",
        "%matplotlib inline\n",
        "pd.set_option('display.max_columns', 32)"
      ]
    },
    {
      "cell_type": "code",
      "source": [
        "df = pd.read_csv(\"hotel_booking.csv\")\n",
        "df.head()"
      ],
      "metadata": {
        "id": "fjgNeqVc1sNQ"
      },
      "execution_count": null,
      "outputs": []
    },
    {
      "cell_type": "code",
      "source": [
        "df.describe()"
      ],
      "metadata": {
        "id": "PtZ2V2eQ1sAh"
      },
      "execution_count": null,
      "outputs": []
    },
    {
      "cell_type": "code",
      "source": [
        "df.info()"
      ],
      "metadata": {
        "id": "466zKx5v2gF5"
      },
      "execution_count": null,
      "outputs": []
    },
    {
      "cell_type": "code",
      "source": [
        "## Replace NaN in `agent` and `company` as 0\n",
        "cols = ['agent', 'company']\n",
        "for col in cols:\n",
        "  df[col].fillna(0, inplace=True)\n",
        "## Check leaves no NaN\n",
        "print(pd.DataFrame({'#NaN': df[cols].isnull().sum(), \n",
        "                    '%NaN': round(df[cols].isnull().mean() * 100, 2)}))"
      ],
      "metadata": {
        "id": "Re7vQqVa1r9h"
      },
      "execution_count": null,
      "outputs": []
    },
    {
      "cell_type": "code",
      "source": [
        "df.fillna(0,inplace=True)"
      ],
      "metadata": {
        "id": "aF4I0yA515yq"
      },
      "execution_count": null,
      "outputs": []
    },
    {
      "cell_type": "code",
      "source": [
        "#Understanding the correlation for each variable with is_canceled\n",
        "corr = df.corr()['is_canceled']\n",
        "corr.abs().sort_values(ascending=False)[1:]"
      ],
      "metadata": {
        "id": "Rt_u3cMI151Q"
      },
      "execution_count": null,
      "outputs": []
    },
    {
      "cell_type": "code",
      "source": [
        "# adults, babies and children cant be zero at same time, so dropping the rows having all these zero at same time\n",
        "\n",
        "filter = (df.children == 0) & (df.adults == 0) & (df.babies == 0)\n",
        "df[filter]"
      ],
      "metadata": {
        "id": "r6Ed0qzz2y6T"
      },
      "execution_count": null,
      "outputs": []
    },
    {
      "cell_type": "code",
      "source": [
        "df = df[~filter]\n",
        "df"
      ],
      "metadata": {
        "id": "t3eY5cqH15tw"
      },
      "execution_count": null,
      "outputs": []
    },
    {
      "cell_type": "code",
      "source": [
        "df=df.drop(['name','email','phone-number','credit_card'],axis=1)"
      ],
      "metadata": {
        "id": "HU7iWeS22gC3"
      },
      "execution_count": null,
      "outputs": []
    },
    {
      "cell_type": "code",
      "source": [
        "df['No_of_Nights'] = df['stays_in_weekend_nights']+df['stays_in_week_nights']"
      ],
      "metadata": {
        "id": "2E0SILOj15q_"
      },
      "execution_count": null,
      "outputs": []
    },
    {
      "cell_type": "code",
      "source": [
        "## The home country of guests \n",
        "country_dist = pd.DataFrame(df.loc[df[\"is_canceled\"]==0][\"country\"].value_counts())\n",
        "country_dist.rename(columns={\"country\": \"Number of Guests\"}, inplace=True)\n",
        "total_guests = country_dist[\"Number of Guests\"].sum()\n",
        "country_dist[\"Guest Percentage\"] = round(country_dist[\"Number of Guests\"] / total_guests * 100, 2)\n",
        "country_dist[\"Country\"] = country_dist.index\n",
        "country_dist"
      ],
      "metadata": {
        "id": "EvRQreVP64qe"
      },
      "execution_count": null,
      "outputs": []
    },
    {
      "cell_type": "code",
      "source": [
        "## Pie Plot\n",
        "fig = px.pie(country_dist,\n",
        "             values=\"Number of Guests\",\n",
        "             names=\"Country\",\n",
        "             title=\"Home country of guests\")\n",
        "fig.update_traces(textposition=\"inside\", textinfo=\"value+percent+label\")\n",
        "fig.show()"
      ],
      "metadata": {
        "id": "dR37uhZf64m8"
      },
      "execution_count": null,
      "outputs": []
    },
    {
      "cell_type": "code",
      "source": [
        "## total bookings per market segment (incl. canceled)\n",
        "segments=df[\"market_segment\"].value_counts()\n",
        "\n",
        "## pie plot\n",
        "fig = px.pie(segments,\n",
        "             values=segments.values,\n",
        "             names=segments.index,\n",
        "             title=\"Bookings per market segment\")\n",
        "fig.update_traces(rotation=-90, textinfo=\"percent+label\")\n",
        "fig.show()"
      ],
      "metadata": {
        "id": "H3naqg-tWt66"
      },
      "execution_count": null,
      "outputs": []
    },
    {
      "cell_type": "code",
      "source": [
        "df"
      ],
      "metadata": {
        "id": "o4jOCCfbWt1T"
      },
      "execution_count": null,
      "outputs": []
    },
    {
      "cell_type": "code",
      "source": [
        "df['reservation_status_date'] = pd.to_datetime(df['reservation_status_date'])\n",
        "\n",
        "df['year'] = df['reservation_status_date'].dt.year\n",
        "df['month'] = df['reservation_status_date'].dt.month\n",
        "df['day'] = df['reservation_status_date'].dt.day"
      ],
      "metadata": {
        "id": "jMdkpBftWtvG"
      },
      "execution_count": null,
      "outputs": []
    },
    {
      "cell_type": "code",
      "source": [
        "## Reconstruct `adults`, `children`, `babies` as \n",
        "## a new binary feature `is_family` and a new numerical feature `customer_number`\n",
        "## Reconstruct `stays_in_week_nights` and `stays_in_weekend_nights`  \n",
        "## as a new numerical feature `night_number`\n",
        "def is_family(df):\n",
        "  if ((df['adults'] > 0) & (df['children'] + df['babies'] > 0)):\n",
        "    return 1\n",
        "  else:\n",
        "    return 0\n",
        "\n",
        "df['is_family'] = df.apply(is_family, axis=1)\n",
        "df['Number_of_guests'] = df['adults'] + df['children'] + df['babies']"
      ],
      "metadata": {
        "id": "_nR9yBuxj747"
      },
      "execution_count": null,
      "outputs": []
    },
    {
      "cell_type": "code",
      "source": [
        "## The home country of guests \n",
        "country_cancel = pd.DataFrame(df.loc[df[\"is_canceled\"]==1][\"country\"].value_counts())\n",
        "country_cancel.rename(columns={\"country\": \"Number of Guests\"}, inplace=True)\n",
        "total_guests = country_cancel[\"Number of Guests\"].sum()\n",
        "country_cancel[\"Guest Percentage\"] = round(country_cancel[\"Number of Guests\"] / total_guests * 100, 2)\n",
        "country_cancel[\"Country\"] = country_cancel.index\n",
        "country_cancel"
      ],
      "metadata": {
        "id": "Dn31pon3j7vr"
      },
      "execution_count": null,
      "outputs": []
    },
    {
      "cell_type": "code",
      "source": [
        "## Pie Plot\n",
        "fig = px.pie(country_cancel,\n",
        "             values=\"Number of Guests\",\n",
        "             names=\"Country\",\n",
        "             title=\"Home country of guests\")\n",
        "fig.update_traces(textposition=\"inside\", textinfo=\"value+percent+label\")\n",
        "fig.show()"
      ],
      "metadata": {
        "id": "2Fkr6cI6j7lk"
      },
      "execution_count": null,
      "outputs": []
    },
    {
      "cell_type": "code",
      "source": [
        "# **prices in the Resort Hotel are much higher during the  \n",
        "#summer and city hotel is most expensive during spring and autumn**"
      ],
      "metadata": {
        "id": "i1ODo2uDpCb1"
      },
      "execution_count": null,
      "outputs": []
    },
    {
      "cell_type": "code",
      "source": [
        "plt.figure(figsize = (8, 4))\n",
        "\n",
        "px.line(df, x = 'arrival_date_month', y = ['adr'],\n",
        "        title = 'Room price per night over the Months', template = 'plotly_dark')"
      ],
      "metadata": {
        "id": "IwXsV2qToZSU"
      },
      "execution_count": null,
      "outputs": []
    },
    {
      "cell_type": "code",
      "source": [
        "px.line(df, x = 'arrival_date_month', y = ['Number_of_guests'],\n",
        "        title='Total No of Guests per Months', template = 'plotly_dark')"
      ],
      "metadata": {
        "id": "wLZakdfwpOOn"
      },
      "execution_count": null,
      "outputs": []
    },
    {
      "cell_type": "code",
      "source": [
        "plt.figure(figsize=(15, 8))\n",
        "plt.subplot(1, 2, 1)\n",
        "sns.countplot(x=\"market_segment\", hue='is_canceled', data=df);\n",
        "plt.title('Types of market segment',fontweight=\"bold\", size=20)\n",
        "\n",
        "plt.subplot(1, 2, 2)\n",
        "sns.countplot(x=\"distribution_channel\", hue='is_canceled', data=df);\n",
        "plt.title('Types of distribution channels',fontweight=\"bold\", size=20)\n",
        "plt.subplots_adjust(right=1.7)\n",
        "\n",
        "\n",
        "plt.show()"
      ],
      "metadata": {
        "id": "HkGyvQfapa8r"
      },
      "execution_count": null,
      "outputs": []
    },
    {
      "cell_type": "code",
      "source": [
        "plt.figure(figsize=(12, 6))\n",
        "\n",
        "sns.countplot(data = df, x = 'deposit_type',hue='hotel')\n",
        "plt.title('Types of Deposit type',fontweight=\"bold\", size=20)\n",
        "\n",
        "\n",
        "plt.show()"
      ],
      "metadata": {
        "id": "v0oz3AFeqLD2"
      },
      "execution_count": null,
      "outputs": []
    },
    {
      "cell_type": "code",
      "source": [
        "d1 = pd.DataFrame(df['agent'].value_counts()).reset_index().rename(\n",
        "    columns = {'index':'agent','agent':'num_of_bookings'}).sort_values(\n",
        "        by = 'num_of_bookings', ascending = False)\n",
        "d1.drop(d1[d1['agent'] == 0].index, inplace = True)            \n",
        "# 0 represents that booking is not made by an agent\n",
        "d1 = d1[:10]                                                   \n",
        "# Selecting top 10 performing agents\n",
        "plt.figure(figsize = (10,5))\n",
        "sns.barplot(x = 'agent', y = 'num_of_bookings', data = d1, order = \n",
        "            d1.sort_values('num_of_bookings', ascending = False).agent)"
      ],
      "metadata": {
        "id": "XYUKOhWGtpGs"
      },
      "execution_count": null,
      "outputs": []
    },
    {
      "cell_type": "code",
      "source": [
        "not_canceled = df[df['is_canceled'] == 0]\n",
        "s1 = not_canceled[not_canceled['No_of_Nights'] < 15]\n",
        "plt.figure(figsize = (10,5))\n",
        "sns.countplot(x = s1['No_of_Nights'], hue = s1['hotel'])\n",
        "plt.show()\n",
        "#Most common stay length is less than 4 days and generally people prefer \n",
        "#City hotel for short stay, but for long stays, Resort Hotel is preferred."
      ],
      "metadata": {
        "id": "Kki3LZKvuJZA"
      },
      "execution_count": null,
      "outputs": []
    },
    {
      "cell_type": "code",
      "source": [
        "# Selecting and counting number of cancelled bookings for each hotel.\n",
        "cancelled_data = df[df['is_canceled'] == 1]\n",
        "cancel_grp = cancelled_data.groupby('hotel')\n",
        "D1 = pd.DataFrame(cancel_grp.size()).rename(\n",
        "    columns = {0:'total_cancelled_bookings'})\n",
        "\n",
        "# Counting total number of bookings for each type of hotel\n",
        "grouped_by_hotel = df.groupby('hotel')\n",
        "total_booking = grouped_by_hotel.size()\n",
        "D2 = pd.DataFrame(total_booking).rename(columns = {0: 'total_bookings'})\n",
        "D3 = pd.concat([D1,D2], axis = 1)\n",
        "\n",
        "# Calculating cancel percentage \n",
        "D3['cancel_%'] = round((D3['total_cancelled_bookings']/\n",
        "                        D3['total_bookings'])*100,2)\n",
        "D3"
      ],
      "metadata": {
        "id": "CEowdKK2u0s4"
      },
      "execution_count": null,
      "outputs": []
    },
    {
      "cell_type": "code",
      "source": [
        "group_by_dc_hotel = df.groupby(['distribution_channel', 'hotel'])\n",
        "\n",
        "d5 = pd.DataFrame(round((group_by_dc_hotel['adr']).agg(\n",
        "    np.mean),2)).reset_index().rename(columns = {'adr': 'avg_adr'})\n",
        "\n",
        "plt.figure(figsize = (7,5))\n",
        "sns.barplot(x = d5['distribution_channel'], y = d5['avg_adr'], hue = d5['hotel'])\n",
        "plt.ylim(40,140)\n",
        "plt.show()"
      ],
      "metadata": {
        "id": "SKQQqyb3w0wz"
      },
      "execution_count": null,
      "outputs": []
    },
    {
      "cell_type": "markdown",
      "source": [
        "GDS channel brings higher revenue generating deals for City hotel, \n",
        "in contrast to that most bookings come via TA/TO. City Hotel can \n",
        "work to increase outreach on GDS channels to get more higher \n",
        "revenue generating deals.\n",
        "\n",
        "Resort hotel has more revnue generating deals by direct and TA/TO\n",
        " channel. Resort Hotel need to increase outreach on GDS channel \n",
        " to increase revenue.\n",
        "\n"
      ],
      "metadata": {
        "id": "7WYWagpjy0F9"
      }
    },
    {
      "cell_type": "code",
      "source": [
        "d_month = df['arrival_date_month'].value_counts().reset_index()\n",
        "d_month.columns=['months','Number_of_guests']\n",
        "d_month\n",
        "months = ['January', 'February', 'March', 'April', 'May', 'June', 'July', \n",
        "          'August', 'September', 'October', 'November', 'December']\n",
        "d_month['months'] = pd.Categorical(d_month['months'], categories=months, \n",
        "                                   ordered=True)\n",
        "d_month.sort_values('months').reset_index()\n",
        "\n",
        "\n",
        "data_resort = df[(df['hotel'] == 'Resort Hotel') & (df['is_canceled'] == 0)]\n",
        "data_city = df[(df['hotel'] == 'City Hotel') & (df['is_canceled'] == 0)]\n",
        "resort_hotel = data_resort.groupby(['arrival_date_month'])['adr'\n",
        "].mean().reset_index()\n",
        "city_hotel=data_city.groupby(['arrival_date_month'])['adr'].mean().reset_index()\n",
        "final_hotel = resort_hotel.merge(city_hotel, on = 'arrival_date_month')\n",
        "final_hotel.columns = ['month', 'price_for_resort', 'price_for_city_hotel']\n",
        "final_hotel\n",
        "\n",
        "resort_guest = data_resort['arrival_date_month'].value_counts().reset_index()\n",
        "resort_guest.columns=['month','no of guests']\n",
        "resort_guest\n",
        "\n",
        "city_guest = data_city['arrival_date_month'].value_counts().reset_index()\n",
        "city_guest.columns=['month','no of guests']\n",
        "city_guest\n",
        "\n",
        "final_guest=resort_guest.merge(city_guest, on = 'month')\n",
        "final_guest.columns=['month','no of guests in resort',\n",
        "                     'no of guest in city hotel']\n",
        "final_guest\n",
        "months = ['January', 'February', 'March', 'April', 'May', 'June', 'July', \n",
        "          'August', 'September', 'October', 'November', 'December']\n",
        "final_guest['month'] = pd.Categorical(final_guest['month'], categories=months, \n",
        "                                      ordered=True)\n",
        "final_guest = final_guest.sort_values('month').reset_index()\n",
        "\n",
        "#Which month get most visitors?\n",
        "sns.lineplot(data=final_guest, x='month', y='no of guests in resort')\n",
        "sns.lineplot(data=final_guest, x='month', y='no of guest in city hotel')\n",
        "plt.legend(['Resort','City Hotel'])\n",
        "plt.ylabel('Number of guest')\n",
        "fig = plt.gcf()\n",
        "fig.set_size_inches(15,10)"
      ],
      "metadata": {
        "id": "IfTMsVFYviff"
      },
      "execution_count": null,
      "outputs": []
    },
    {
      "cell_type": "code",
      "source": [],
      "metadata": {
        "id": "BVVELq9JyrPC"
      },
      "execution_count": null,
      "outputs": []
    }
  ]
}