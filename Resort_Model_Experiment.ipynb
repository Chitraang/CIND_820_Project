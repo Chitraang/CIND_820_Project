{
  "nbformat": 4,
  "nbformat_minor": 0,
  "metadata": {
    "colab": {
      "private_outputs": true,
      "provenance": []
    },
    "kernelspec": {
      "name": "python3",
      "display_name": "Python 3"
    },
    "language_info": {
      "name": "python"
    }
  },
  "cells": [
    {
      "cell_type": "code",
      "execution_count": null,
      "metadata": {
        "id": "8sWqowT4rnKa"
      },
      "outputs": [],
      "source": [
        "# importing libraries\n",
        "\n",
        "import pandas as pd\n",
        "import numpy as np\n",
        "import matplotlib.pyplot as plt\n",
        "import seaborn as sns\n",
        "import missingno as msno\n",
        "\n",
        "import warnings\n",
        "warnings.filterwarnings('ignore')\n",
        "\n",
        "from sklearn.model_selection import train_test_split, GridSearchCV\n",
        "from sklearn.preprocessing import StandardScaler\n",
        "from sklearn.metrics import accuracy_score, confusion_matrix, classification_report\n",
        "from sklearn.linear_model import LogisticRegression\n",
        "from sklearn.neighbors import KNeighborsClassifier\n",
        "from sklearn.svm import SVC\n",
        "from sklearn.tree import DecisionTreeClassifier\n",
        "from sklearn.ensemble import RandomForestClassifier\n",
        "from sklearn.ensemble import RandomForestClassifier\n",
        "from sklearn.ensemble import AdaBoostClassifier\n",
        "from sklearn.ensemble import GradientBoostingClassifier\n",
        "from xgboost import XGBClassifier\n",
        "from sklearn.ensemble import ExtraTreesClassifier\n",
        "from lightgbm import LGBMClassifier\n",
        "from sklearn.ensemble import VotingClassifier\n",
        "\n",
        "import folium\n",
        "from folium.plugins import HeatMap\n",
        "import plotly.express as px\n",
        "\n",
        "plt.style.use('fivethirtyeight')\n",
        "%matplotlib inline\n",
        "pd.set_option('display.max_columns', 32)"
      ]
    },
    {
      "cell_type": "code",
      "source": [
        "df = pd.read_csv(\"hotel_booking.csv\")\n",
        "df.head()"
      ],
      "metadata": {
        "id": "yVtET4whrqLJ"
      },
      "execution_count": null,
      "outputs": []
    },
    {
      "cell_type": "code",
      "source": [
        "df.describe()"
      ],
      "metadata": {
        "id": "nN94OplvrqIl"
      },
      "execution_count": null,
      "outputs": []
    },
    {
      "cell_type": "code",
      "source": [
        "## Replace NaN in `agent` and `company` as 0\n",
        "cols = ['agent', 'company']\n",
        "for col in cols:\n",
        "  df[col].fillna(0, inplace=True)\n",
        "## Check leaves no NaN\n",
        "print(pd.DataFrame({'#NaN': df[cols].isnull().sum(), \n",
        "                    '%NaN': round(df[cols].isnull().mean() * 100, 2)}))"
      ],
      "metadata": {
        "id": "nvrhBJxAsvur"
      },
      "execution_count": null,
      "outputs": []
    },
    {
      "cell_type": "code",
      "source": [
        "corr = df.corr()['is_canceled']\n",
        "corr.abs().sort_values(ascending=False)[1:]"
      ],
      "metadata": {
        "id": "rOlb_pCbsvqj"
      },
      "execution_count": null,
      "outputs": []
    },
    {
      "cell_type": "code",
      "source": [
        "df.fillna(0,inplace=True)"
      ],
      "metadata": {
        "id": "CHzY13QPsvmH"
      },
      "execution_count": null,
      "outputs": []
    },
    {
      "cell_type": "code",
      "source": [
        "df.info()"
      ],
      "metadata": {
        "id": "G-OhDQDVtrAt"
      },
      "execution_count": null,
      "outputs": []
    },
    {
      "cell_type": "code",
      "source": [
        "df.drop(['name','email','phone-number','credit_card'],axis=1)"
      ],
      "metadata": {
        "id": "wh60lKVjtm8a"
      },
      "execution_count": null,
      "outputs": []
    },
    {
      "cell_type": "code",
      "source": [
        "# adults, babies and children cant be zero at same time, so dropping the rows having all these zero at same time\n",
        "\n",
        "filter = (df.children == 0) & (df.adults == 0) & (df.babies == 0)\n",
        "df[filter]"
      ],
      "metadata": {
        "id": "NOd-JWcxsvjn"
      },
      "execution_count": null,
      "outputs": []
    },
    {
      "cell_type": "code",
      "source": [
        "df = df[~filter]\n",
        "df"
      ],
      "metadata": {
        "id": "BJFpQeetsvhV"
      },
      "execution_count": null,
      "outputs": []
    },
    {
      "cell_type": "code",
      "source": [
        "plt.figure(figsize = (24, 12))\n",
        "\n",
        "corr = df.corr()\n",
        "sns.heatmap(corr, annot = True, linewidths = 1)\n",
        "plt.show()"
      ],
      "metadata": {
        "id": "HUduu8UmsvfD"
      },
      "execution_count": null,
      "outputs": []
    },
    {
      "cell_type": "code",
      "source": [
        "correlation = df.corr()['is_canceled'].abs().sort_values(ascending = False)\n",
        "correlation"
      ],
      "metadata": {
        "id": "r2RpwcBfsvcn"
      },
      "execution_count": null,
      "outputs": []
    },
    {
      "cell_type": "code",
      "source": [
        "# dropping columns that are not useful\n",
        "\n",
        "useless_col = ['days_in_waiting_list', 'arrival_date_year', 'arrival_date_year', 'assigned_room_type', 'booking_changes',\n",
        "               'reservation_status', 'country', 'days_in_waiting_list']\n",
        "\n",
        "df.drop(useless_col, axis = 1, inplace = True)"
      ],
      "metadata": {
        "id": "p83OnoUiuDuw"
      },
      "execution_count": null,
      "outputs": []
    },
    {
      "cell_type": "code",
      "source": [
        "# creating numerical and categorical dataframes\n",
        "\n",
        "cat_cols = [col for col in df.columns if df[col].dtype == 'O']\n",
        "cat_cols"
      ],
      "metadata": {
        "id": "QiX9yBeBuDsi"
      },
      "execution_count": null,
      "outputs": []
    },
    {
      "cell_type": "code",
      "source": [
        "cat_df = df[cat_cols]\n",
        "cat_df.head()"
      ],
      "metadata": {
        "id": "CQ_BT_ZJuDqj"
      },
      "execution_count": null,
      "outputs": []
    },
    {
      "cell_type": "code",
      "source": [
        "cat_df['reservation_status_date'] = pd.to_datetime(cat_df['reservation_status_date'])\n",
        "\n",
        "cat_df['year'] = cat_df['reservation_status_date'].dt.year\n",
        "cat_df['month'] = cat_df['reservation_status_date'].dt.month\n",
        "cat_df['day'] = cat_df['reservation_status_date'].dt.day"
      ],
      "metadata": {
        "id": "sjj5xc5quDoP"
      },
      "execution_count": null,
      "outputs": []
    },
    {
      "cell_type": "code",
      "source": [
        "cat_df.drop(['reservation_status_date','arrival_date_month','name','email','phone-number','credit_card'] , axis = 1, inplace = True)"
      ],
      "metadata": {
        "id": "xms2VLOMuDl_"
      },
      "execution_count": null,
      "outputs": []
    },
    {
      "cell_type": "code",
      "source": [
        "cat_df.head()"
      ],
      "metadata": {
        "id": "tHMubAmcuDhQ"
      },
      "execution_count": null,
      "outputs": []
    },
    {
      "cell_type": "code",
      "source": [
        "# printing unique values of each column\n",
        "for col in cat_df.columns:\n",
        "    print(f\"{col}: \\n{cat_df[col].unique()}\\n\")"
      ],
      "metadata": {
        "id": "LNfn742XsvaF"
      },
      "execution_count": null,
      "outputs": []
    },
    {
      "cell_type": "code",
      "source": [
        "# encoding categorical variables\n",
        "\n",
        "cat_df['hotel'] = cat_df['hotel'].map({'Resort Hotel' : 0, 'City Hotel' : 1})\n",
        "\n",
        "cat_df['meal'] = cat_df['meal'].map({'BB' : 0, 'FB': 1, 'HB': 2, 'SC': 3, 'Undefined': 4})\n",
        "\n",
        "cat_df['market_segment'] = cat_df['market_segment'].map({'Direct': 0, 'Corporate': 1, 'Online TA': 2, 'Offline TA/TO': 3,\n",
        "                                                           'Complementary': 4, 'Groups': 5, 'Undefined': 6, 'Aviation': 7})\n",
        "\n",
        "cat_df['distribution_channel'] = cat_df['distribution_channel'].map({'Direct': 0, 'Corporate': 1, 'TA/TO': 2, 'Undefined': 3,\n",
        "                                                                       'GDS': 4})\n",
        "\n",
        "cat_df['reserved_room_type'] = cat_df['reserved_room_type'].map({'C': 0, 'A': 1, 'D': 2, 'E': 3, 'G': 4, 'F': 5, 'H': 6,\n",
        "                                                                   'L': 7, 'B': 8})\n",
        "\n",
        "cat_df['deposit_type'] = cat_df['deposit_type'].map({'No Deposit': 0, 'Refundable': 1, 'Non Refund': 3})\n",
        "\n",
        "cat_df['customer_type'] = cat_df['customer_type'].map({'Transient': 0, 'Contract': 1, 'Transient-Party': 2, 'Group': 3})\n",
        "\n",
        "cat_df['year'] = cat_df['year'].map({2015: 0, 2014: 1, 2016: 2, 2017: 3})"
      ],
      "metadata": {
        "id": "Ttf-QrgysvXv"
      },
      "execution_count": null,
      "outputs": []
    },
    {
      "cell_type": "code",
      "source": [
        "num_df = df.drop(columns = cat_cols, axis = 1)\n",
        "num_df.drop('is_canceled', axis = 1, inplace = True)\n",
        "num_df"
      ],
      "metadata": {
        "id": "8jnMwT6SsvVC"
      },
      "execution_count": null,
      "outputs": []
    },
    {
      "cell_type": "code",
      "source": [
        "# normalizing numerical variables\n",
        "\n",
        "num_df['lead_time'] = np.log(num_df['lead_time'] + 1)\n",
        "num_df['arrival_date_week_number'] = np.log(num_df['arrival_date_week_number'] + 1)\n",
        "num_df['arrival_date_day_of_month'] = np.log(num_df['arrival_date_day_of_month'] + 1)\n",
        "num_df['agent'] = np.log(num_df['agent'] + 1)\n",
        "num_df['company'] = np.log(num_df['company'] + 1)\n",
        "num_df['adr'] = np.log(num_df['adr'] + 1)"
      ],
      "metadata": {
        "id": "T7W1iVFdsvRv"
      },
      "execution_count": null,
      "outputs": []
    },
    {
      "cell_type": "code",
      "source": [
        "num_df['adr'] = num_df['adr'].fillna(value = num_df['adr'].mean())"
      ],
      "metadata": {
        "id": "Flb-K4PTsvPC"
      },
      "execution_count": null,
      "outputs": []
    },
    {
      "cell_type": "code",
      "source": [
        "X = pd.concat([cat_df, num_df], axis = 1)\n",
        "y = df['is_canceled']"
      ],
      "metadata": {
        "id": "R1Neye88svMA"
      },
      "execution_count": null,
      "outputs": []
    },
    {
      "cell_type": "code",
      "source": [
        "X.shape, y.shape"
      ],
      "metadata": {
        "id": "2IibUHGpsvJu"
      },
      "execution_count": null,
      "outputs": []
    },
    {
      "cell_type": "code",
      "source": [
        "# splitting data into training set and test set\n",
        "\n",
        "X_train, X_test, y_train, y_test = train_test_split(X, y, test_size = 0.30)"
      ],
      "metadata": {
        "id": "13YguA5ssvHL"
      },
      "execution_count": null,
      "outputs": []
    },
    {
      "cell_type": "code",
      "source": [
        "X_train.head()"
      ],
      "metadata": {
        "id": "9W5WhL-hsvE2"
      },
      "execution_count": null,
      "outputs": []
    },
    {
      "cell_type": "code",
      "source": [
        "X_test.head()"
      ],
      "metadata": {
        "id": "BhoDd4gesvCq"
      },
      "execution_count": null,
      "outputs": []
    },
    {
      "cell_type": "code",
      "source": [
        "y_train.head(), y_test.head()"
      ],
      "metadata": {
        "id": "c3jXhBussvAS"
      },
      "execution_count": null,
      "outputs": []
    },
    {
      "cell_type": "markdown",
      "source": [
        "LG - MODEL"
      ],
      "metadata": {
        "id": "8bp5Ryu4vBt7"
      }
    },
    {
      "cell_type": "code",
      "source": [
        "lr = LogisticRegression()\n",
        "lr.fit(X_train, y_train)\n",
        "\n",
        "y_pred_lr = lr.predict(X_test)\n",
        "\n",
        "acc_lr = accuracy_score(y_test, y_pred_lr)\n",
        "conf = confusion_matrix(y_test, y_pred_lr)\n",
        "clf_report = classification_report(y_test, y_pred_lr)\n",
        "\n",
        "print(f\"Accuracy Score of Logistic Regression is : {acc_lr}\")\n",
        "print(f\"Confusion Matrix : \\n{conf}\")\n",
        "print(f\"Classification Report : \\n{clf_report}\")"
      ],
      "metadata": {
        "id": "ZN6zkImxsu97"
      },
      "execution_count": null,
      "outputs": []
    },
    {
      "cell_type": "code",
      "source": [
        "from sklearn.metrics import confusion_matrix\n",
        "cf=confusion_matrix(y_test, y_pred_lr)\n",
        "print (\"Confusion Matrix\")\n",
        "print(cf)\n",
        "tn, fp, fn, tp=cf.ravel()\n",
        "print (\"TP: \", tp,\", FP: \", fp,\", TN: \", tn,\", FN:\", fn)"
      ],
      "metadata": {
        "id": "52mcznWMgESH"
      },
      "execution_count": null,
      "outputs": []
    },
    {
      "cell_type": "markdown",
      "source": [
        "KNN"
      ],
      "metadata": {
        "id": "oIdnbO2kvJDr"
      }
    },
    {
      "cell_type": "code",
      "source": [
        "knn = KNeighborsClassifier()\n",
        "knn.fit(X_train, y_train)\n",
        "\n",
        "y_pred_knn = knn.predict(X_test)\n",
        "\n",
        "acc_knn = accuracy_score(y_test, y_pred_knn)\n",
        "conf = confusion_matrix(y_test, y_pred_knn)\n",
        "clf_report = classification_report(y_test, y_pred_knn)\n",
        "\n",
        "print(f\"Accuracy Score of KNN is : {acc_knn}\")\n",
        "print(f\"Confusion Matrix : \\n{conf}\")\n",
        "print(f\"Classification Report : \\n{clf_report}\")"
      ],
      "metadata": {
        "id": "J567gqDksu7Y"
      },
      "execution_count": null,
      "outputs": []
    },
    {
      "cell_type": "code",
      "source": [
        "from sklearn.metrics import confusion_matrix\n",
        "cf=confusion_matrix(y_test, y_pred_knn)\n",
        "print (\"Confusion Matrix\")\n",
        "print(cf)\n",
        "tn, fp, fn, tp=cf.ravel()\n",
        "print (\"TP: \", tp,\", FP: \", fp,\", TN: \", tn,\", FN:\", fn)"
      ],
      "metadata": {
        "id": "8ux01g5ygpY_"
      },
      "execution_count": null,
      "outputs": []
    },
    {
      "cell_type": "markdown",
      "source": [
        "D TREE"
      ],
      "metadata": {
        "id": "rvrmXkdIvMyr"
      }
    },
    {
      "cell_type": "code",
      "source": [
        "dtc = DecisionTreeClassifier()\n",
        "dtc.fit(X_train, y_train)\n",
        "\n",
        "y_pred_dtc = dtc.predict(X_test)\n",
        "\n",
        "acc_dtc = accuracy_score(y_test, y_pred_dtc)\n",
        "conf = confusion_matrix(y_test, y_pred_dtc)\n",
        "clf_report = classification_report(y_test, y_pred_dtc)\n",
        "\n",
        "print(f\"Accuracy Score of Decision Tree is : {acc_dtc}\")\n",
        "print(f\"Confusion Matrix : \\n{conf}\")\n",
        "print(f\"Classification Report : \\n{clf_report}\")"
      ],
      "metadata": {
        "id": "xNkQQJ2Asu1Z"
      },
      "execution_count": null,
      "outputs": []
    },
    {
      "cell_type": "code",
      "source": [
        "from sklearn.metrics import confusion_matrix\n",
        "cf=confusion_matrix(y_test, y_pred_dtc)\n",
        "print (\"Confusion Matrix\")\n",
        "print(cf)\n",
        "tn, fp, fn, tp=cf.ravel()\n",
        "print (\"TP: \", tp,\", FP: \", fp,\", TN: \", tn,\", FN:\", fn)"
      ],
      "metadata": {
        "id": "v_wyI4QAgw_5"
      },
      "execution_count": null,
      "outputs": []
    },
    {
      "cell_type": "code",
      "source": [
        "etc = ExtraTreesClassifier()\n",
        "etc.fit(X_train, y_train)\n",
        "\n",
        "y_pred_etc = etc.predict(X_test)\n",
        "\n",
        "acc_etc = accuracy_score(y_test, y_pred_etc)\n",
        "conf = confusion_matrix(y_test, y_pred_etc)\n",
        "clf_report = classification_report(y_test, y_pred_etc)\n",
        "\n",
        "print(f\"Accuracy Score of Ada Boost Classifier is : {acc_etc}\")\n",
        "print(f\"Confusion Matrix : \\n{conf}\")\n",
        "print(f\"Classification Report : \\n{clf_report}\")"
      ],
      "metadata": {
        "id": "HBrnR6mDvm_9"
      },
      "execution_count": null,
      "outputs": []
    },
    {
      "cell_type": "code",
      "source": [
        "from sklearn.metrics import confusion_matrix\n",
        "cf=confusion_matrix(y_test, y_pred_etc)\n",
        "print (\"Confusion Matrix\")\n",
        "print(cf)\n",
        "tn, fp, fn, tp=cf.ravel()\n",
        "print (\"TP: \", tp,\", FP: \", fp,\", TN: \", tn,\", FN:\", fn)"
      ],
      "metadata": {
        "id": "B7YKHBZpg1Q9"
      },
      "execution_count": null,
      "outputs": []
    },
    {
      "cell_type": "code",
      "source": [
        "models = pd.DataFrame({\n",
        "    'Model' : ['Logistic Regression', 'KNN', 'Decision Tree Classifier','Extra Trees Classifier'],\n",
        "    'Score' : [acc_lr, acc_knn, acc_dtc, acc_etc]\n",
        "})\n",
        "\n",
        "\n",
        "models.sort_values(by = 'Score', ascending = False)"
      ],
      "metadata": {
        "id": "7hE7kJnOsuzB"
      },
      "execution_count": null,
      "outputs": []
    },
    {
      "cell_type": "code",
      "source": [
        "px.bar(data_frame = models, x = 'Score', y = 'Model', color = 'Score', template = 'plotly_dark', title = 'Models Comparison')"
      ],
      "metadata": {
        "id": "IUxiNchfrqGT"
      },
      "execution_count": null,
      "outputs": []
    },
    {
      "cell_type": "code",
      "source": [],
      "metadata": {
        "id": "CAZ-UaabrqEB"
      },
      "execution_count": null,
      "outputs": []
    }
  ]
}